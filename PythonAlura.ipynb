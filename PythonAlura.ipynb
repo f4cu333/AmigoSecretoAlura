{
  "nbformat": 4,
  "nbformat_minor": 0,
  "metadata": {
    "colab": {
      "provenance": [],
      "authorship_tag": "ABX9TyPJpOl0R9ZSo+v5ClmHIqhZ",
      "include_colab_link": true
    },
    "kernelspec": {
      "name": "python3",
      "display_name": "Python 3"
    },
    "language_info": {
      "name": "python"
    }
  },
  "cells": [
    {
      "cell_type": "markdown",
      "metadata": {
        "id": "view-in-github",
        "colab_type": "text"
      },
      "source": [
        "<a href=\"https://colab.research.google.com/github/f4cu333/AmigoSecretoAlura/blob/main/PythonAlura.ipynb\" target=\"_parent\"><img src=\"https://colab.research.google.com/assets/colab-badge.svg\" alt=\"Open In Colab\"/></a>"
      ]
    },
    {
      "cell_type": "code",
      "execution_count": null,
      "metadata": {
        "id": "Z2_2EFw6G33C",
        "colab": {
          "base_uri": "https://localhost:8080/"
        },
        "outputId": "7d5e4e64-8e2c-40ca-e375-951a09416050"
      },
      "outputs": [
        {
          "output_type": "stream",
          "name": "stdout",
          "text": [
            "Hola mundo\n"
          ]
        }
      ],
      "source": [
        "print('Hola mundo')"
      ]
    },
    {
      "cell_type": "markdown",
      "source": [
        "**holaaa**"
      ],
      "metadata": {
        "id": "G_0arFhuARZ7"
      }
    },
    {
      "cell_type": "code",
      "source": [
        "# prompt: nombre = input(\"ingrese su nombre\")\n",
        "\n",
        "nombre = input(\"ingrese su nombre\")\n",
        "edad = input(\" ingrese su edad\")\n",
        "altura = input(\"ingrese su altura\")\n",
        "print(f'Hola {nombre}, tienes {edad} años y mides {altura}')\n"
      ],
      "metadata": {
        "id": "KXtwMsln1J8e",
        "colab": {
          "base_uri": "https://localhost:8080/"
        },
        "outputId": "305543aa-8560-4f94-a399-93f64f4dbe31"
      },
      "execution_count": null,
      "outputs": [
        {
          "output_type": "stream",
          "name": "stdout",
          "text": [
            "ingrese su nombrefacu\n",
            " ingrese su edad24\n",
            "ingrese su altura2222\n",
            "Hola facu, tienes 24 años y mides 2222\n"
          ]
        }
      ]
    },
    {
      "cell_type": "code",
      "source": [
        "numeroA = int(input(\"ingrese un numero\"))\n",
        "numeroB = int(input(\"ingrese otro numero\"))\n",
        "suma= numeroA + numeroB\n",
        "print(f'la suma de los numeros es {numeroA + numeroB}')"
      ],
      "metadata": {
        "colab": {
          "base_uri": "https://localhost:8080/"
        },
        "id": "iXj9WpDSqvn3",
        "outputId": "606576fa-a1f9-4121-cfb8-7b531effc66c"
      },
      "execution_count": null,
      "outputs": [
        {
          "output_type": "stream",
          "name": "stdout",
          "text": [
            "ingrese un numero2\n",
            "ingrese otro numero3\n",
            "la suma de los numeros es 6\n"
          ]
        }
      ]
    },
    {
      "cell_type": "code",
      "source": [
        "numeroA = int(input(\"ingrese un numero\"))\n",
        "numeroB = int(input(\"ingrese otro numero\"))\n",
        "suma= numeroA + numeroB\n",
        "print(f'la suma de los numeros es {numeroA - numeroB}')"
      ],
      "metadata": {
        "id": "PcWQFXJBqq_U"
      },
      "execution_count": null,
      "outputs": []
    },
    {
      "cell_type": "code",
      "source": [
        "numeroA = int(input(\"ingrese un numero\"))\n",
        "numeroB = int(input(\"ingrese otro numero\"))\n",
        "suma= numeroA + numeroB\n",
        "print(f'la suma de los numeros es {numeroA * numeroB}')"
      ],
      "metadata": {
        "id": "8NaLITK9qsDD"
      },
      "execution_count": null,
      "outputs": []
    },
    {
      "cell_type": "code",
      "source": [
        "numeroA = int(input(\"ingrese un numero\"))\n",
        "numeroB = int(input(\"ingrese otro numero mayor a 0\"))\n",
        "\n",
        "print(f'la suma de los numeros es {numeroA / numeroB}')"
      ],
      "metadata": {
        "colab": {
          "base_uri": "https://localhost:8080/"
        },
        "id": "Tmsha-zDqrkF",
        "outputId": "f12d226c-5093-41d4-b58e-b0992b48fb47"
      },
      "execution_count": null,
      "outputs": [
        {
          "output_type": "stream",
          "name": "stdout",
          "text": [
            "ingrese un numero6\n",
            "ingrese otro numero3\n",
            "la suma de los numeros es 2.0\n"
          ]
        }
      ]
    },
    {
      "cell_type": "code",
      "source": [
        "numeroA = int(input(\"ingrese un numero\"))\n",
        "numeroB = int(input(\"ingrese otro numero\"))\n",
        "print(f'la suma de los numeros es {numeroA ** numeroB}')"
      ],
      "metadata": {
        "colab": {
          "base_uri": "https://localhost:8080/"
        },
        "id": "w3xjEL61qrPY",
        "outputId": "6e7e1f1d-9caf-425f-9e65-ace605d7f2d8"
      },
      "execution_count": null,
      "outputs": [
        {
          "output_type": "stream",
          "name": "stdout",
          "text": [
            "ingrese un numero2\n",
            "ingrese otro numero10\n",
            "la suma de los numeros es 1024\n"
          ]
        }
      ]
    },
    {
      "cell_type": "code",
      "source": [
        "numeroA = int(input(\"ingrese un numero\"))\n",
        "numeroB = int(input(\"ingrese otro numero\"))\n",
        "suma= numeroA + numeroB\n",
        "print(f'la suma de los numeros es {numeroA % numeroB}')"
      ],
      "metadata": {
        "colab": {
          "base_uri": "https://localhost:8080/"
        },
        "id": "O6G2zx-NszuY",
        "outputId": "29afe158-68b0-4050-ee54-1801b1e714ca"
      },
      "execution_count": null,
      "outputs": [
        {
          "output_type": "stream",
          "name": "stdout",
          "text": [
            "ingrese un numero15\n",
            "ingrese otro numero7\n",
            "la suma de los numeros es 1\n"
          ]
        }
      ]
    },
    {
      "cell_type": "code",
      "source": [
        "nota1 = int(input(\"ingrese su nota\"))\n",
        "nota2 = int(input(\"ingrese su nota\"))\n",
        "nota3 = int(input(\"ingrese su nota\"))\n",
        "\n",
        "calculoPromedio= (nota1 + nota2 + nota3) / 3\n",
        "\n",
        "print(f'su promedio es {calculoPromedio}')"
      ],
      "metadata": {
        "colab": {
          "base_uri": "https://localhost:8080/"
        },
        "id": "ZoG25s5EtKtg",
        "outputId": "e704b020-bfa3-4f7d-e05a-85211588c316"
      },
      "execution_count": null,
      "outputs": [
        {
          "output_type": "stream",
          "name": "stdout",
          "text": [
            "ingrese su nota2\n",
            "ingrese su nota4\n",
            "ingrese su nota10\n",
            "su promedio es 5.333333333333333\n"
          ]
        }
      ]
    },
    {
      "cell_type": "code",
      "source": [
        "promedio= (5*1 + 12*2 +20*3+15*4)/(1+2+3+4)\n",
        "print(promedio)"
      ],
      "metadata": {
        "colab": {
          "base_uri": "https://localhost:8080/"
        },
        "id": "4spbWXqLtPn5",
        "outputId": "d1c5e646-6135-411c-ee0b-ab1df46e58ef"
      },
      "execution_count": null,
      "outputs": [
        {
          "output_type": "stream",
          "name": "stdout",
          "text": [
            "14.9\n"
          ]
        }
      ]
    },
    {
      "cell_type": "code",
      "source": [
        "frase = \"Este es el famoso River, el famoso River Plate...\"\n",
        "print(frase)"
      ],
      "metadata": {
        "colab": {
          "base_uri": "https://localhost:8080/"
        },
        "id": "7F9aUpqxt6LC",
        "outputId": "a8e58148-1d17-4ac6-e43a-bae7c716ecf0"
      },
      "execution_count": null,
      "outputs": [
        {
          "output_type": "stream",
          "name": "stdout",
          "text": [
            "Este es el famoso River, el famoso River Plate...\n"
          ]
        }
      ]
    },
    {
      "cell_type": "code",
      "source": [
        "frase = input(\"ingrsa una frase\")\n",
        "print(frase)"
      ],
      "metadata": {
        "colab": {
          "base_uri": "https://localhost:8080/"
        },
        "id": "dQKdBSnQuY-f",
        "outputId": "f8b80558-5cfe-4ce1-a2ca-a9f44fc314bd"
      },
      "execution_count": null,
      "outputs": [
        {
          "output_type": "stream",
          "name": "stdout",
          "text": [
            "ingrsa una frasehola\n",
            "hola\n"
          ]
        }
      ]
    },
    {
      "cell_type": "code",
      "source": [
        "frase = input(\"ingrsa una frase\")\n",
        "print((frase).upper())"
      ],
      "metadata": {
        "colab": {
          "base_uri": "https://localhost:8080/"
        },
        "id": "17oWAGEbufx3",
        "outputId": "4d1ba421-a4b4-48cd-bbfc-2c5f894972b1"
      },
      "execution_count": null,
      "outputs": [
        {
          "output_type": "stream",
          "name": "stdout",
          "text": [
            "ingrsa una frasehola\n",
            "HOLA\n"
          ]
        }
      ]
    },
    {
      "cell_type": "code",
      "source": [
        "frase = input(\"ingrsa una frase\")\n",
        "print((frase).lower())"
      ],
      "metadata": {
        "colab": {
          "base_uri": "https://localhost:8080/"
        },
        "id": "8iRqJBnQul5H",
        "outputId": "e6fe094e-ca03-4834-9a88-c95d3447d242"
      },
      "execution_count": null,
      "outputs": [
        {
          "output_type": "stream",
          "name": "stdout",
          "text": [
            "ingrsa una fraseHola\n",
            "hola\n"
          ]
        }
      ]
    },
    {
      "cell_type": "code",
      "source": [
        "frase = input(\"ingrsa una frase\")\n",
        "print((frase).strip())"
      ],
      "metadata": {
        "colab": {
          "base_uri": "https://localhost:8080/"
        },
        "id": "nGYoYFJUu3e2",
        "outputId": "b3b3991b-d7c8-4e32-f9c7-26e449250f70"
      },
      "execution_count": null,
      "outputs": [
        {
          "output_type": "stream",
          "name": "stdout",
          "text": [
            "ingrsa una frase          hola        \n",
            "hola\n"
          ]
        }
      ]
    },
    {
      "cell_type": "code",
      "source": [
        "frase = input(\"ingrsa una frase\")\n",
        "print(frase.replace(\"e\",\"f\"))"
      ],
      "metadata": {
        "colab": {
          "base_uri": "https://localhost:8080/"
        },
        "id": "VHFBwLuSvA4n",
        "outputId": "4a69b5a7-072d-43ff-aee0-b6e7d24bd373"
      },
      "execution_count": null,
      "outputs": [
        {
          "output_type": "stream",
          "name": "stdout",
          "text": [
            "ingrsa una fraseese se\n",
            "fsf sf\n"
          ]
        }
      ]
    }
  ]
}